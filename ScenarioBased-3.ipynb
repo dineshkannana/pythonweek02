{
 "cells": [
  {
   "cell_type": "code",
   "execution_count": 1,
   "id": "f9e12980-7d78-4a9c-bd93-44c5328ad07b",
   "metadata": {},
   "outputs": [],
   "source": [
    "# 1. Scenario: A user is required to enter a valid number in a form, but users sometimes input invalid data. \n",
    "#Write logic to repeatedly prompt the user until they enter a valid integer."
   ]
  },
  {
   "cell_type": "code",
   "execution_count": 2,
   "id": "1311dd0e-6571-4c7f-8aba-9ade59e88612",
   "metadata": {},
   "outputs": [
    {
     "name": "stdin",
     "output_type": "stream",
     "text": [
      "Enter the number: 1234\n",
      "Enter valid Number: 1234\n"
     ]
    },
    {
     "name": "stdout",
     "output_type": "stream",
     "text": [
      "User enter the data valid.\n"
     ]
    }
   ],
   "source": [
    "Num = int(input(\"Enter the number:\"))\n",
    "valid_Num = int(input(\"Enter valid Number:\"))\n",
    "if (Num == valid_Num):\n",
    "    print(\"User enter the data valid.\")\n",
    "else:\n",
    "    print(\"User enter the data invalid.\")"
   ]
  },
  {
   "cell_type": "code",
   "execution_count": 3,
   "id": "0ce88ea0-b270-4a27-8692-e58a73aa3e73",
   "metadata": {},
   "outputs": [],
   "source": [
    "# 2. Scenario: A data analysis tool processes a list of numbers and needs to identify the most frequently occurring value. \n",
    "#Write logic to find the most frequently occurring number in a given list. "
   ]
  },
  {
   "cell_type": "code",
   "execution_count": 4,
   "id": "f27fce9c-9b0e-4bb5-a63d-c0c2279e8945",
   "metadata": {},
   "outputs": [
    {
     "ename": "NameError",
     "evalue": "name 'frequent' is not defined",
     "output_type": "error",
     "traceback": [
      "\u001b[1;31m---------------------------------------------------------------------------\u001b[0m",
      "\u001b[1;31mNameError\u001b[0m                                 Traceback (most recent call last)",
      "Cell \u001b[1;32mIn[4], line 2\u001b[0m\n\u001b[0;32m      1\u001b[0m num \u001b[38;5;241m=\u001b[39m [\u001b[38;5;241m1\u001b[39m,\u001b[38;5;241m2\u001b[39m,\u001b[38;5;241m2\u001b[39m,\u001b[38;5;241m3\u001b[39m,\u001b[38;5;241m4\u001b[39m,\u001b[38;5;241m3\u001b[39m,\u001b[38;5;241m2\u001b[39m,\u001b[38;5;241m1\u001b[39m]\n\u001b[1;32m----> 2\u001b[0m frequent\u001b[38;5;241m=\u001b[39mfrequent(num)\n\u001b[0;32m      3\u001b[0m common\u001b[38;5;241m=\u001b[39mfrequent\u001b[38;5;241m.\u001b[39mcommon(\u001b[38;5;241m1\u001b[39m)[\u001b[38;5;241m0\u001b[39m]\n\u001b[0;32m      4\u001b[0m \u001b[38;5;28mprint\u001b[39m(\u001b[38;5;124m\"\u001b[39m\u001b[38;5;124mfrequent num:\u001b[39m\u001b[38;5;124m\"\u001b[39m,common[\u001b[38;5;241m0\u001b[39m])\n",
      "\u001b[1;31mNameError\u001b[0m: name 'frequent' is not defined"
     ]
    }
   ],
   "source": [
    "num = [1,2,2,3,4,3,2,1]\n",
    "frequent=frequent(num)\n",
    "common=frequent.common(1)[0]\n",
    "print(\"frequent num:\",common[0])\n",
    "print(\"frequency:\",common[1])"
   ]
  },
  {
   "cell_type": "code",
   "execution_count": 5,
   "id": "7ff58af9-c0ff-4e2e-b07b-a3b1f553b551",
   "metadata": {},
   "outputs": [],
   "source": [
    "# 3. Scenario: A text-processing application needs to compare words and check if they are anagrams (contain the same letters in a different order). \n",
    "#Write logic to determine whether two given strings are anagrams."
   ]
  },
  {
   "cell_type": "code",
   "execution_count": 6,
   "id": "bb4cb69a-5879-44b3-9ba1-c637de2b76d7",
   "metadata": {},
   "outputs": [
    {
     "name": "stdin",
     "output_type": "stream",
     "text": [
      "enter the text 1: dinesh\n",
      "enter the text 2: madesh\n"
     ]
    },
    {
     "name": "stdout",
     "output_type": "stream",
     "text": [
      "the text not anagrams.\n"
     ]
    }
   ],
   "source": [
    "str1=input(\"enter the text 1:\")\n",
    "str2=input(\"enter the text 2:\")\n",
    "if(sorted(str1)==sorted(str2)):\n",
    "    print(\"the text anagrams.\")\n",
    "else:\n",
    "    print(\"the text not anagrams.\")"
   ]
  },
  {
   "cell_type": "code",
   "execution_count": 7,
   "id": "8fff44c3-db2c-4fb4-84e5-48a1f6812c25",
   "metadata": {},
   "outputs": [],
   "source": [
    "# 4. Scenario: A speech analysis program needs to count the number of vowel sounds in a given input. \n",
    "# Write logic to count the number of vowels in a given string."
   ]
  },
  {
   "cell_type": "code",
   "execution_count": 12,
   "id": "71957337-832c-4588-89fd-ada9972ef3a3",
   "metadata": {},
   "outputs": [
    {
     "name": "stdin",
     "output_type": "stream",
     "text": [
      "Enter the speech analysis words: alter\n"
     ]
    },
    {
     "name": "stdout",
     "output_type": "stream",
     "text": [
      "Number or vowels in a given string: None\n"
     ]
    }
   ],
   "source": [
    "def count_vowel(text):\n",
    "    vowel = \"aeiouAEIOU\"\n",
    "    count = 0\n",
    "    for char in text:#text store char\n",
    "        if char in vowel:\n",
    "            count += 1\n",
    "analysis_speech = input(\"Enter the speech analysis words:\")\n",
    "vowel_count=count_vowel(analysis_speech)\n",
    "print(\"Number or vowels in a given string:\" ,vowel_count)"
   ]
  },
  {
   "cell_type": "code",
   "execution_count": 13,
   "id": "9f451a79-2519-4ced-a215-a9a1aec09fa2",
   "metadata": {},
   "outputs": [],
   "source": [
    "#5. Scenario: A text-editing software includes a feature to reverse the order of words in a sentence for stylistic effects. \n",
    "#Write logic to reverse the order of words in a sentence while keeping the words themselves intact."
   ]
  },
  {
   "cell_type": "code",
   "execution_count": 14,
   "id": "748e116f-ff97-4412-8d9e-3a5b798e3733",
   "metadata": {},
   "outputs": [
    {
     "name": "stdin",
     "output_type": "stream",
     "text": [
      "enter text: kannan\n"
     ]
    },
    {
     "name": "stdout",
     "output_type": "stream",
     "text": [
      "nannak\n"
     ]
    }
   ],
   "source": [
    "text=input(\"enter text:\")\n",
    "rev_text=text[::-1]\n",
    "print(rev_text)"
   ]
  },
  {
   "cell_type": "code",
   "execution_count": 15,
   "id": "8302f6ef-2e57-483d-8e4e-458b8275b2b2",
   "metadata": {},
   "outputs": [],
   "source": [
    "# 6.Scenario: A missing number is detected in a sequence of values stored in a database. \n",
    "#Write logic to find the missing number in a list containing n-1 numbers from 1 to n. "
   ]
  },
  {
   "cell_type": "code",
   "execution_count": 17,
   "id": "50fca369-952b-4647-9782-ce548a37773f",
   "metadata": {},
   "outputs": [
    {
     "ename": "NameError",
     "evalue": "name 'missig' is not defined",
     "output_type": "error",
     "traceback": [
      "\u001b[1;31m---------------------------------------------------------------------------\u001b[0m",
      "\u001b[1;31mNameError\u001b[0m                                 Traceback (most recent call last)",
      "Cell \u001b[1;32mIn[17], line 8\u001b[0m\n\u001b[0;32m      6\u001b[0m number \u001b[38;5;241m=\u001b[39m [\u001b[38;5;241m1\u001b[39m,\u001b[38;5;241m3\u001b[39m,\u001b[38;5;241m5\u001b[39m,\u001b[38;5;241m4\u001b[39m,\u001b[38;5;241m6\u001b[39m]\n\u001b[0;32m      7\u001b[0m missing \u001b[38;5;241m=\u001b[39m misnum(number, n)\n\u001b[1;32m----> 8\u001b[0m \u001b[38;5;28mprint\u001b[39m(\u001b[38;5;124m\"\u001b[39m\u001b[38;5;124mmissing number is:\u001b[39m\u001b[38;5;124m\"\u001b[39m, missig)\n",
      "\u001b[1;31mNameError\u001b[0m: name 'missig' is not defined"
     ]
    }
   ],
   "source": [
    "\n",
    "def misnum(number, n):\n",
    "    expectformla=n*(n+1)//2\n",
    "    actualformla=sum(number)\n",
    "    return expectformla-actualformla\n",
    "n=6\n",
    "number = [1,3,5,4,6]\n",
    "missing = misnum(number, n)\n",
    "print(\"missing number is:\", missig)"
   ]
  },
  {
   "cell_type": "code",
   "execution_count": 18,
   "id": "df0aae14-beb3-4b61-9921-6181add18f30",
   "metadata": {},
   "outputs": [],
   "source": [
    "# 7. Scenario: An ATM machine processes withdrawal requests and needs to ensure that users cannot withdraw more than their account balance. \n",
    "#Write logic to allow a withdrawal only if the balance is sufficient. "
   ]
  },
  {
   "cell_type": "code",
   "execution_count": 19,
   "id": "93a142f1-c754-4aa9-86f4-c957590885a2",
   "metadata": {},
   "outputs": [
    {
     "name": "stdin",
     "output_type": "stream",
     "text": [
      "Enter the current balance: 5000\n",
      "Enther  withdrawal amount: 500\n"
     ]
    },
    {
     "name": "stdout",
     "output_type": "stream",
     "text": [
      "4500.0\n"
     ]
    }
   ],
   "source": [
    "balance = float(input(\"Enter the current balance:\"))\n",
    "withdrawal = float(input(\"Enther  withdrawal amount:\"))\n",
    "if(withdrawal<=balance):\n",
    "    print(balance-withdrawal)\n",
    "else:\n",
    "    print(\"Not allowed \")\n",
    "    print(\"insufficient funds.\")"
   ]
  },
  {
   "cell_type": "code",
   "execution_count": 20,
   "id": "073b5481-f325-4fb5-b983-67fd7c5bf787",
   "metadata": {},
   "outputs": [],
   "source": [
    "#8. Scenario: A system needs to verify whether a given dataset contains duplicate entries. \n",
    "# Write logic to check whether a given list contains duplicate values."
   ]
  },
  {
   "cell_type": "code",
   "execution_count": 22,
   "id": "eaa85fc2-4e24-456a-9e7a-e2bb99c3b2f3",
   "metadata": {},
   "outputs": [
    {
     "name": "stdout",
     "output_type": "stream",
     "text": [
      "1 is a duplicate\n",
      "2 is a duplicate\n",
      "2 is a duplicate\n",
      "1 is a duplicate\n"
     ]
    }
   ],
   "source": [
    "numbers = [1,2,3,2,1,5,6]\n",
    "for num in numbers:\n",
    "    if (numbers.count(num) > 1):\n",
    "        print(num , \"is a duplicate\")"
   ]
  },
  {
   "cell_type": "code",
   "execution_count": 23,
   "id": "d7019f9d-1394-4028-bc95-0c980c74827f",
   "metadata": {},
   "outputs": [],
   "source": [
    "#9. Scenario: A digital calculator includes a feature to sum the digits of a number for verification purposes. \n",
    "#Write logic to calculate the sum of all digits in a given integer. "
   ]
  },
  {
   "cell_type": "code",
   "execution_count": 25,
   "id": "133ec855-a4d9-43e3-9bb3-b48b34c72c1f",
   "metadata": {},
   "outputs": [
    {
     "name": "stdin",
     "output_type": "stream",
     "text": [
      "enter the digit: 1234\n"
     ]
    },
    {
     "name": "stdout",
     "output_type": "stream",
     "text": [
      "<function sum_digits at 0x000001A98928AC00>\n"
     ]
    }
   ],
   "source": [
    "def sum_digits(passcode):\n",
    "    total=0\n",
    "    for digit in str(passcode):\n",
    "        total +=int(digit)\n",
    "    return total\n",
    "passcode=int(input(\"enter the digit:\"))\n",
    "print(sum_digits)"
   ]
  },
  {
   "cell_type": "code",
   "execution_count": null,
   "id": "258914b0-70dc-4bb2-8252-1b542a6c62ae",
   "metadata": {},
   "outputs": [],
   "source": [
    "#10. Scenario: A language-learning app wants to verify whether a given sentence is a pangram (contains every letter of the alphabet at least once). \n",
    "# Write logic to check if a given sentence is a pangram. "
   ]
  }
 ],
 "metadata": {
  "kernelspec": {
   "display_name": "Python 3 (ipykernel)",
   "language": "python",
   "name": "python3"
  },
  "language_info": {
   "codemirror_mode": {
    "name": "ipython",
    "version": 3
   },
   "file_extension": ".py",
   "mimetype": "text/x-python",
   "name": "python",
   "nbconvert_exporter": "python",
   "pygments_lexer": "ipython3",
   "version": "3.11.5"
  }
 },
 "nbformat": 4,
 "nbformat_minor": 5
}
