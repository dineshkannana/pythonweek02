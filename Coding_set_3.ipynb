{
 "cells": [
  {
   "cell_type": "code",
   "execution_count": 1,
   "id": "511e5dbe",
   "metadata": {
    "id": "511e5dbe"
   },
   "outputs": [
    {
     "name": "stdout",
     "output_type": "stream",
     "text": [
      "1 square of values: 1\n",
      "2 square of values: 4\n",
      "3 square of values: 9\n",
      "4 square of values: 16\n",
      "5 square of values: 25\n"
     ]
    }
   ],
   "source": [
    "#1. Square of Numbers from 1 to 5\n",
    "#Output:1 4 9 16 25\n",
    "for i in range(1,6):\n",
    "    print(i,\"square of values:\",i*i)"
   ]
  },
  {
   "cell_type": "code",
   "execution_count": 2,
   "id": "e886abee",
   "metadata": {
    "id": "e886abee"
   },
   "outputs": [
    {
     "name": "stdout",
     "output_type": "stream",
     "text": [
      "swap a: 10\n",
      "swap b: 5\n"
     ]
    }
   ],
   "source": [
    "#2.Swap Two Variables Without Using a Temporary Variable\n",
    "#Question: Write a Python program to swap two variables a = 5 and b = 10 without using a temporary variable.\n",
    "a=5\n",
    "b=10\n",
    "a,b=b,a\n",
    "print(\"swap a:\",a)\n",
    "print(\"swap b:\",b)"
   ]
  },
  {
   "cell_type": "code",
   "execution_count": 3,
   "id": "adfc0479",
   "metadata": {
    "id": "adfc0479"
   },
   "outputs": [
    {
     "name": "stdout",
     "output_type": "stream",
     "text": [
      "the even number: 12\n",
      "the odd number: 17\n",
      "the odd number: 19\n",
      "the even number: 24\n",
      "the odd number: 35\n",
      "the even number: 40\n",
      "the even number: 56\n"
     ]
    }
   ],
   "source": [
    " #3.Find Even and Odd Numbers in a List\n",
    "#Question: Write a Python program to separate even and odd numbers from the list [12, 17, 19, 24, 35, 40, 56].\n",
    "numbers=[12, 17, 19, 24, 35, 40, 56]\n",
    "for num in numbers:\n",
    "    if(num%2==0):\n",
    "        print(\"the even number:\",num)\n",
    "    else:\n",
    "        print(\"the odd number:\",num)\n"
   ]
  },
  {
   "cell_type": "code",
   "execution_count": 8,
   "id": "9bd0afd7",
   "metadata": {
    "id": "9bd0afd7"
   },
   "outputs": [
    {
     "name": "stdin",
     "output_type": "stream",
     "text": [
      "enter the number: 12345\n"
     ]
    },
    {
     "name": "stdout",
     "output_type": "stream",
     "text": [
      "54321\n"
     ]
    }
   ],
   "source": [
    "#4. Reverse a Number\n",
    "#Question: Write a Python program to reverse the number 12345.\n",
    "\n",
    "number=int(input(\"enter the number:\"))\n",
    "revers_numbers=int(str(number)[::-1])\n",
    "print(revers_numbers)"
   ]
  },
  {
   "cell_type": "code",
   "execution_count": 12,
   "id": "baf1f666",
   "metadata": {
    "id": "baf1f666"
   },
   "outputs": [
    {
     "name": "stdout",
     "output_type": "stream",
     "text": [
      "<function largestNumber at 0x0000025C62BD28E0>\n"
     ]
    }
   ],
   "source": [
    "#5. Find the Second Largest Number in a List\n",
    "#Question: Write a Python program to find the second largest number in the list [12, 45, 98, 34, 23].\n",
    "def largestNumber(number):\n",
    "    largest=numbers[0]\n",
    "    for num in numbers:\n",
    "        if num>largest:\n",
    "            largest=num\n",
    "    return largest        \n",
    "numbers=[12, 45, 98, 34, 23]\n",
    "print(largestNumber)"
   ]
  },
  {
   "cell_type": "code",
   "execution_count": null,
   "id": "eb6e77d2",
   "metadata": {
    "id": "eb6e77d2"
   },
   "outputs": [],
   "source": []
  },
  {
   "cell_type": "code",
   "execution_count": null,
   "id": "cf27438f",
   "metadata": {
    "id": "cf27438f"
   },
   "outputs": [],
   "source": []
  },
  {
   "cell_type": "code",
   "execution_count": null,
   "id": "8a8e84b3",
   "metadata": {
    "id": "8a8e84b3"
   },
   "outputs": [],
   "source": []
  },
  {
   "cell_type": "code",
   "execution_count": null,
   "id": "a73f86c4",
   "metadata": {
    "id": "a73f86c4"
   },
   "outputs": [],
   "source": []
  }
 ],
 "metadata": {
  "colab": {
   "provenance": []
  },
  "kernelspec": {
   "display_name": "Python 3 (ipykernel)",
   "language": "python",
   "name": "python3"
  },
  "language_info": {
   "codemirror_mode": {
    "name": "ipython",
    "version": 3
   },
   "file_extension": ".py",
   "mimetype": "text/x-python",
   "name": "python",
   "nbconvert_exporter": "python",
   "pygments_lexer": "ipython3",
   "version": "3.11.5"
  }
 },
 "nbformat": 4,
 "nbformat_minor": 5
}
