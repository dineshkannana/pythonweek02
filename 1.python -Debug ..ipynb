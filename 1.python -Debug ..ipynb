{
 "cells": [
  {
   "cell_type": "code",
   "execution_count": 1,
   "id": "8e02775a",
   "metadata": {},
   "outputs": [
    {
     "name": "stdout",
     "output_type": "stream",
     "text": [
      "find the error SyntaxError: expected ':'\n",
      "0\n",
      "1\n",
      "2\n",
      "3\n",
      "4\n"
     ]
    }
   ],
   "source": [
    "#1.Find the error in the following Python code:\n",
    "#for i in range(5)\n",
    " #   print(i)\n",
    "print(\"find the error SyntaxError: expected ':'\")\n",
    "for i in range(5):\n",
    "    print(i)\n"
   ]
  },
  {
   "cell_type": "code",
   "execution_count": 4,
   "id": "df3cee51",
   "metadata": {},
   "outputs": [
    {
     "name": "stdout",
     "output_type": "stream",
     "text": [
      "solve the code.\n",
      "15\n"
     ]
    }
   ],
   "source": [
    "#2.What will be the output of this code?\n",
    "\n",
    "#a = 10\n",
    "#b = \"5\"\n",
    "#print(a + b)\n",
    "print(\"solve the code.\")\n",
    "a=10\n",
    "b=\"5\"\n",
    "print(a+int(b))"
   ]
  },
  {
   "cell_type": "code",
   "execution_count": 5,
   "id": "15c2e7b2",
   "metadata": {},
   "outputs": [
    {
     "name": "stdout",
     "output_type": "stream",
     "text": [
      "No issue in this code\n",
      "7\n"
     ]
    }
   ],
   "source": [
    "#3.What is the issue in this Python snippet?\n",
    "\n",
    "#def add_numbers(a, b):\n",
    "#    return a + b\n",
    "print(\"No issue in this code\")\n",
    "def add_numbers(a, b):\n",
    "    return a + b\n",
    "result = add_numbers(3, 4)\n",
    "print(result)  "
   ]
  },
  {
   "cell_type": "code",
   "execution_count": 6,
   "id": "2f8e5efd",
   "metadata": {},
   "outputs": [
    {
     "name": "stdout",
     "output_type": "stream",
     "text": [
      "IndexError: list index out of range\n",
      "solve the code\n",
      "4\n"
     ]
    }
   ],
   "source": [
    "\n",
    "#4.Identify the bug in the following Python code:\n",
    "\n",
    "#numbers = [1, 2, 3, 4]\n",
    "#print(numbers[4])\n",
    "print(\"IndexError: list index out of range\")\n",
    "print(\"solve the code\")\n",
    "\n",
    "numbers = [1, 2, 3, 4]\n",
    "print(numbers[3])"
   ]
  },
  {
   "cell_type": "code",
   "execution_count": 11,
   "id": "bc0080c1",
   "metadata": {},
   "outputs": [
    {
     "name": "stdout",
     "output_type": "stream",
     "text": [
      "Missing parentheses\n",
      "Hello, World!\n"
     ]
    }
   ],
   "source": [
    "#5.Find the error in the following Python code:\n",
    "#print \"Hello, World!\"\n",
    "print(\"Missing parentheses\")\n",
    "print(\"Hello, World!\")"
   ]
  },
  {
   "cell_type": "code",
   "execution_count": 12,
   "id": "5b449ecb",
   "metadata": {},
   "outputs": [
    {
     "name": "stdout",
     "output_type": "stream",
     "text": [
      "Error: Cannot divide by zero.\n"
     ]
    }
   ],
   "source": [
    "#6.Find the error in the following Python code:\n",
    "#x = 5 / 0\n",
    "\n",
    "try:\n",
    "    x = 5 / 0\n",
    "except ZeroDivisionError:\n",
    "    print(\"Error: Cannot divide by zero.\")\n"
   ]
  },
  {
   "cell_type": "code",
   "execution_count": 15,
   "id": "79260565",
   "metadata": {},
   "outputs": [
    {
     "name": "stdout",
     "output_type": "stream",
     "text": [
      "NameError\n",
      "Name: Alice, Age: 25\n"
     ]
    }
   ],
   "source": [
    "#7.Find the error in the following Python code:#\n",
    "#name = \"Alice\"\n",
    "#age = 25\n",
    "#print(\"Name: \" + name + \", Age: \" + age)\n",
    "print(\"NameError\")\n",
    "name = \"Alice\"\n",
    "age=25\n",
    "print(\"Name: \" + name + \", Age: \" + str(age))"
   ]
  },
  {
   "cell_type": "code",
   "execution_count": 17,
   "id": "3e4b6f3b",
   "metadata": {},
   "outputs": [
    {
     "name": "stdout",
     "output_type": "stream",
     "text": [
      "It's a logic error, not a syntax\n",
      "1\n",
      "2\n",
      "3\n",
      "4\n",
      "5\n",
      "6\n",
      "7\n",
      "8\n",
      "9\n"
     ]
    }
   ],
   "source": [
    "#8.Find the error\n",
    "#for i in range(1, 10, -1):\n",
    "#    print(i)\n",
    "print(\"It's a logic error, not a syntax\")\n",
    "for i in range(1 ,10):\n",
    "    print(i)\n"
   ]
  },
  {
   "cell_type": "code",
   "execution_count": 20,
   "id": "95976c4d",
   "metadata": {},
   "outputs": [
    {
     "name": "stdout",
     "output_type": "stream",
     "text": [
      "syntaxerror\n",
      "solve the error\n",
      "x is not 5\n"
     ]
    }
   ],
   "source": [
    "#9. Find the error in the following Python code:\n",
    "#x = 10\n",
    "#if x = 5:\n",
    "#    print(\"x is 5\")\n",
    "print(\"syntaxerror\")\n",
    "print(\"solve the error\")\n",
    "x=10\n",
    "if x==5:\n",
    "    print(\"x is 5\")\n",
    "else:\n",
    "    print(\"x is not 5\")   "
   ]
  },
  {
   "cell_type": "code",
   "execution_count": 27,
   "id": "49f6bc50-813c-4d8f-aae9-e5fd201f5cd4",
   "metadata": {},
   "outputs": [
    {
     "name": "stdout",
     "output_type": "stream",
     "text": [
      "syntaxerror:\n"
     ]
    },
    {
     "data": {
      "text/plain": [
       "'Hello! dinesh'"
      ]
     },
     "execution_count": 27,
     "metadata": {},
     "output_type": "execute_result"
    }
   ],
   "source": [
    "#10.identify the error\n",
    "#def greed(name)\n",
    " #   add=hello!+name\n",
    "print(\"syntaxerror:\")\n",
    "def greet(name):\n",
    "    add = \"Hello! \" + name\n",
    "    return add\n",
    "greet(\"dinesh\")"
   ]
  },
  {
   "cell_type": "code",
   "execution_count": null,
   "id": "0764d0bc-15d9-4e32-b934-4316eaf45d35",
   "metadata": {},
   "outputs": [],
   "source": []
  }
 ],
 "metadata": {
  "kernelspec": {
   "display_name": "Python 3 (ipykernel)",
   "language": "python",
   "name": "python3"
  },
  "language_info": {
   "codemirror_mode": {
    "name": "ipython",
    "version": 3
   },
   "file_extension": ".py",
   "mimetype": "text/x-python",
   "name": "python",
   "nbconvert_exporter": "python",
   "pygments_lexer": "ipython3",
   "version": "3.11.5"
  }
 },
 "nbformat": 4,
 "nbformat_minor": 5
}
