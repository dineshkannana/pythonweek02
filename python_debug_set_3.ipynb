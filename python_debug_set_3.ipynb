{
 "cells": [
  {
   "cell_type": "code",
   "execution_count": 3,
   "id": "e0cda6bb",
   "metadata": {
    "id": "e0cda6bb"
   },
   "outputs": [
    {
     "name": "stdin",
     "output_type": "stream",
     "text": [
      "enter the name: mahi\n"
     ]
    },
    {
     "name": "stdout",
     "output_type": "stream",
     "text": [
      "<function say_hello at 0x0000023D6CBE2F20>\n"
     ]
    }
   ],
   "source": [
    "#1.What is wrong with the following function definition, and how do you fix it?\n",
    "\n",
    "\n",
    "def say_hello(name):\n",
    "    print(\"Hello, \" + name)\n",
    "name=input(\"enter the name:\")\n",
    "print(say_hello)"
   ]
  },
  {
   "cell_type": "code",
   "execution_count": 5,
   "id": "8e33c083",
   "metadata": {
    "id": "8e33c083"
   },
   "outputs": [
    {
     "name": "stdout",
     "output_type": "stream",
     "text": [
      "I am 25 years old\n"
     ]
    }
   ],
   "source": [
    "#2.What error will occur in the following code, and how do you fix it?\n",
    "\n",
    "\n",
    "age = str(25)\n",
    "print(\"I am \" + age + \" years old\")\n"
   ]
  },
  {
   "cell_type": "code",
   "execution_count": 10,
   "id": "52da6958",
   "metadata": {
    "id": "52da6958"
   },
   "outputs": [
    {
     "name": "stdout",
     "output_type": "stream",
     "text": [
      "<function greet at 0x0000023D6CCC3EC0>\n"
     ]
    }
   ],
   "source": [
    "#3.Question:\n",
    "#What is the issue with the following code?\n",
    "\n",
    "def greet():\n",
    "    message = \"Hello\"\n",
    "    return message\n",
    "print(greet)\n"
   ]
  },
  {
   "cell_type": "code",
   "execution_count": 11,
   "id": "98d811ab",
   "metadata": {
    "id": "98d811ab"
   },
   "outputs": [
    {
     "name": "stdout",
     "output_type": "stream",
     "text": [
      "11\n"
     ]
    }
   ],
   "source": [
    "#4.What error will occur in the following code, and how do you fix it?\n",
    "\n",
    "def add(a, b):\n",
    "    return a + b\n",
    "\n",
    "print(add(5,6))\n"
   ]
  },
  {
   "cell_type": "code",
   "execution_count": 19,
   "id": "87cdb40a",
   "metadata": {
    "id": "87cdb40a"
   },
   "outputs": [
    {
     "name": "stdout",
     "output_type": "stream",
     "text": [
      "True\n"
     ]
    }
   ],
   "source": [
    "#5.What is wrong with this code?\n",
    "\n",
    "def is_even(n):\n",
    "    if n % 2 == 0:\n",
    "       return True\n",
    "    else:\n",
    "        return False\n",
    "print(is_even(8))"
   ]
  },
  {
   "cell_type": "code",
   "execution_count": 21,
   "id": "9849beed",
   "metadata": {
    "id": "9849beed"
   },
   "outputs": [
    {
     "name": "stdout",
     "output_type": "stream",
     "text": [
      "10a\n"
     ]
    }
   ],
   "source": [
    "#6.What happens when you run this code?\n",
    "\n",
    "num = str(\"10a\")\n",
    "print(num)\n"
   ]
  },
  {
   "cell_type": "code",
   "execution_count": 29,
   "id": "e2de2ed1",
   "metadata": {
    "id": "e2de2ed1"
   },
   "outputs": [
    {
     "name": "stdout",
     "output_type": "stream",
     "text": [
      "[4, 3, 2, 1]\n"
     ]
    }
   ],
   "source": [
    "#7.What will happen when you run the following code?\n",
    "\n",
    "\n",
    "numbers = [1, 2, 3, 4]\n",
    "numbers.sort()\n",
    "numbers.reverse()\n",
    "print(numbers)\n"
   ]
  },
  {
   "cell_type": "code",
   "execution_count": 31,
   "id": "76c3f328",
   "metadata": {
    "id": "76c3f328"
   },
   "outputs": [
    {
     "name": "stdout",
     "output_type": "stream",
     "text": [
      "[1, 2, 3, 4]\n"
     ]
    }
   ],
   "source": [
    "#8.What is the issue with this code?\n",
    "\n",
    "\n",
    "numbers = [1, 2, 3]\n",
    "numbers.append(4)\n",
    "print(numbers)\n"
   ]
  },
  {
   "cell_type": "code",
   "execution_count": 34,
   "id": "4e03b70d",
   "metadata": {
    "id": "4e03b70d"
   },
   "outputs": [
    {
     "name": "stdout",
     "output_type": "stream",
     "text": [
      "11\n"
     ]
    }
   ],
   "source": [
    "#9.What will happen when you run the following code?\n",
    "\n",
    "\n",
    "count = 10\n",
    "\n",
    "def increment(val):\n",
    "    val += 1\n",
    "    print(val)\n",
    "\n",
    "increment(count)\n"
   ]
  },
  {
   "cell_type": "code",
   "execution_count": 35,
   "id": "2034a700",
   "metadata": {
    "id": "2034a700"
   },
   "outputs": [
    {
     "name": "stdout",
     "output_type": "stream",
     "text": [
      "h\n"
     ]
    }
   ],
   "source": [
    "#10.What error will occur in the following code?\n",
    "\n",
    "text = \"Python\"\n",
    "print(text[3])\n"
   ]
  },
  {
   "cell_type": "code",
   "execution_count": null,
   "id": "1bf753bf",
   "metadata": {
    "id": "1bf753bf"
   },
   "outputs": [],
   "source": []
  },
  {
   "cell_type": "code",
   "execution_count": null,
   "id": "332e6058",
   "metadata": {
    "id": "332e6058"
   },
   "outputs": [],
   "source": []
  },
  {
   "cell_type": "code",
   "execution_count": null,
   "id": "e9f9ec4a",
   "metadata": {
    "id": "e9f9ec4a"
   },
   "outputs": [],
   "source": []
  },
  {
   "cell_type": "code",
   "execution_count": null,
   "id": "a4ac24f3",
   "metadata": {
    "id": "a4ac24f3"
   },
   "outputs": [],
   "source": []
  },
  {
   "cell_type": "code",
   "execution_count": null,
   "id": "a131a6e8",
   "metadata": {
    "id": "a131a6e8"
   },
   "outputs": [],
   "source": []
  },
  {
   "cell_type": "code",
   "execution_count": null,
   "id": "9c76c104",
   "metadata": {
    "id": "9c76c104"
   },
   "outputs": [],
   "source": []
  },
  {
   "cell_type": "code",
   "execution_count": null,
   "id": "00877add",
   "metadata": {
    "id": "00877add"
   },
   "outputs": [],
   "source": []
  },
  {
   "cell_type": "code",
   "execution_count": null,
   "id": "5c9757c9",
   "metadata": {
    "id": "5c9757c9"
   },
   "outputs": [],
   "source": []
  },
  {
   "cell_type": "code",
   "execution_count": null,
   "id": "77922c34",
   "metadata": {
    "id": "77922c34"
   },
   "outputs": [],
   "source": []
  },
  {
   "cell_type": "code",
   "execution_count": null,
   "id": "85723416",
   "metadata": {
    "id": "85723416"
   },
   "outputs": [],
   "source": []
  },
  {
   "cell_type": "code",
   "execution_count": null,
   "id": "43418092",
   "metadata": {
    "id": "43418092"
   },
   "outputs": [],
   "source": []
  }
 ],
 "metadata": {
  "colab": {
   "provenance": []
  },
  "kernelspec": {
   "display_name": "Python 3 (ipykernel)",
   "language": "python",
   "name": "python3"
  },
  "language_info": {
   "codemirror_mode": {
    "name": "ipython",
    "version": 3
   },
   "file_extension": ".py",
   "mimetype": "text/x-python",
   "name": "python",
   "nbconvert_exporter": "python",
   "pygments_lexer": "ipython3",
   "version": "3.11.5"
  }
 },
 "nbformat": 4,
 "nbformat_minor": 5
}
