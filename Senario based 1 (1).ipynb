{
 "cells": [
  {
   "cell_type": "code",
   "execution_count": 1,
   "id": "9f3ca248-6760-444e-8995-243eca2e34bf",
   "metadata": {},
   "outputs": [],
   "source": [
    "# 1.eligible to vote based on their age"
   ]
  },
  {
   "cell_type": "code",
   "execution_count": 3,
   "id": "add04484-0c93-4369-b75f-c4efe4536c1a",
   "metadata": {},
   "outputs": [
    {
     "name": "stdin",
     "output_type": "stream",
     "text": [
      "enter the age: 55\n"
     ]
    },
    {
     "name": "stdout",
     "output_type": "stream",
     "text": [
      "eligible to vote\n"
     ]
    }
   ],
   "source": [
    "age=int(input(\"enter the age:\"))\n",
    "if(age>=18):\n",
    "    print(\"eligible to vote\")\n",
    "else:\n",
    "    print(\"not eligible to vote\")"
   ]
  },
  {
   "cell_type": "code",
   "execution_count": 4,
   "id": "78dde8b5-cb3c-41b3-bbbd-d5f61344b036",
   "metadata": {},
   "outputs": [],
   "source": [
    "# 2.find the largest value"
   ]
  },
  {
   "cell_type": "code",
   "execution_count": 5,
   "id": "a2b66646-7c32-4789-bffe-0edf0390235a",
   "metadata": {},
   "outputs": [
    {
     "name": "stdout",
     "output_type": "stream",
     "text": [
      "The largest number is: 89\n"
     ]
    }
   ],
   "source": [
    "def find_largest(numbers):\n",
    "    largest = numbers[0]\n",
    "    for num in numbers:\n",
    "        if num > largest:\n",
    "            largest = num\n",
    "    return largest\n",
    "\n",
    "# List of numbers\n",
    "numbers = [12, 45, 78, 34, 89, 23, 56]\n",
    "\n",
    "#  print the result\n",
    "print(\"The largest number is:\", find_largest(numbers))\n"
   ]
  },
  {
   "cell_type": "code",
   "execution_count": 6,
   "id": "90a152ad-a7e9-4db6-93a8-9264f9523440",
   "metadata": {},
   "outputs": [],
   "source": [
    "# 3.Bonus is 10% if salary exeeds $50,000 else zero"
   ]
  },
  {
   "cell_type": "code",
   "execution_count": 11,
   "id": "60931873-0c83-4e01-a57a-484f31891fe5",
   "metadata": {},
   "outputs": [
    {
     "name": "stdin",
     "output_type": "stream",
     "text": [
      "enter the salary: 4455654\n"
     ]
    },
    {
     "name": "stdout",
     "output_type": "stream",
     "text": [
      "A company provide 10% bonus: 445565.4\n"
     ]
    }
   ],
   "source": [
    "salary =float(input(\"enter the salary:\"))\n",
    "if(salary>4312662.50):\n",
    "    print(\"A company provide 10% bonus:\",salary/10)\n",
    "else:\n",
    "    print(\"not bonus\")"
   ]
  },
  {
   "cell_type": "code",
   "execution_count": 12,
   "id": "e68605c0-0834-4456-8697-64aadef8970b",
   "metadata": {},
   "outputs": [],
   "source": [
    "# 4.Check if a number even or odd"
   ]
  },
  {
   "cell_type": "code",
   "execution_count": 13,
   "id": "e0d15b59-17d0-4376-955f-57487178c45b",
   "metadata": {},
   "outputs": [
    {
     "name": "stdin",
     "output_type": "stream",
     "text": [
      "Enter the number: 56\n"
     ]
    },
    {
     "name": "stdout",
     "output_type": "stream",
     "text": [
      "The number is even.\n"
     ]
    }
   ],
   "source": [
    "num = int(input(\"Enter the number:\"))\n",
    "if(num%2==0):\n",
    "    print(\"The number is even.\")\n",
    "else:\n",
    "    print(\"The number is odd.\")"
   ]
  },
  {
   "cell_type": "code",
   "execution_count": 14,
   "id": "048c45a7-d54f-4ff4-85da-efcefe00a2e6",
   "metadata": {},
   "outputs": [],
   "source": [
    "# 5.Reverse the input text characters"
   ]
  },
  {
   "cell_type": "code",
   "execution_count": 18,
   "id": "1dd3d3db-1710-46af-9c7a-553c8822bdcb",
   "metadata": {},
   "outputs": [
    {
     "name": "stdin",
     "output_type": "stream",
     "text": [
      "Enter the text:  DineshKannan\n"
     ]
    },
    {
     "name": "stdout",
     "output_type": "stream",
     "text": [
      "nannaKhseniD\n"
     ]
    }
   ],
   "source": [
    "text = input(\"Enter the text: \")\n",
    "reversed_text = text[::-1] \n",
    "print(reversed_text)"
   ]
  },
  {
   "cell_type": "code",
   "execution_count": 19,
   "id": "c1701194-8849-427c-bdef-5e99791aef6a",
   "metadata": {},
   "outputs": [],
   "source": [
    "# 6.if score >=40, student passes; otherwise, student fails."
   ]
  },
  {
   "cell_type": "code",
   "execution_count": 20,
   "id": "2893f41c-7660-462f-a510-c1d5fcd7a353",
   "metadata": {},
   "outputs": [
    {
     "name": "stdin",
     "output_type": "stream",
     "text": [
      "Enter the student score: 45\n"
     ]
    },
    {
     "name": "stdout",
     "output_type": "stream",
     "text": [
      "student has passed.\n"
     ]
    }
   ],
   "source": [
    "score = int(input(\"Enter the student score:\"))\n",
    "if(score>=40):\n",
    "    print(\"student has passed.\")\n",
    "else:\n",
    "    print(\"student has failed.\")"
   ]
  },
  {
   "cell_type": "code",
   "execution_count": 21,
   "id": "bd46b7b0-0de5-45b7-b06d-d4dd64fe1442",
   "metadata": {},
   "outputs": [],
   "source": [
    "# 7.A retail store offers a 20% discount if a customer total order exeeds $100"
   ]
  },
  {
   "cell_type": "code",
   "execution_count": 23,
   "id": "0b368d92-ee78-4e80-a092-270a9594c535",
   "metadata": {},
   "outputs": [
    {
     "name": "stdin",
     "output_type": "stream",
     "text": [
      "Enter the customer's total order: 8000\n"
     ]
    },
    {
     "name": "stdout",
     "output_type": "stream",
     "text": [
      "charge full order amount\n"
     ]
    }
   ],
   "source": [
    "order=float(input(\"Enter the customer's total order:\"))\n",
    "if(order>8625.33):\n",
    "    print(\"apply 20% discount:\",order/20)\n",
    "else:\n",
    "    print(\"charge full order amount\")"
   ]
  },
  {
   "cell_type": "code",
   "execution_count": 24,
   "id": "ca58083c-1cf6-4130-91c3-bdae5b9630b4",
   "metadata": {},
   "outputs": [],
   "source": [
    "# 8.if withdrawal<=balance,process it and update balance;else show insufficient funds message"
   ]
  },
  {
   "cell_type": "code",
   "execution_count": 25,
   "id": "37af1000-c128-4771-938d-6ffd9c440264",
   "metadata": {},
   "outputs": [
    {
     "name": "stdin",
     "output_type": "stream",
     "text": [
      "Enter current balance: 5000\n",
      "Enter withdrawal amount: 6666\n"
     ]
    },
    {
     "name": "stdout",
     "output_type": "stream",
     "text": [
      "insufficient funts withdrawal denied.\n"
     ]
    }
   ],
   "source": [
    "balance=float(input(\"Enter current balance:\"))\n",
    "withdrawal=float(input(\"Enter withdrawal amount:\"))\n",
    "if(withdrawal<=balance):\n",
    "    print(\"withdrawal successful remaining balance:\",balance-withdrawal)\n",
    "else:\n",
    "    print(\"insufficient funts withdrawal denied.\")"
   ]
  },
  {
   "cell_type": "code",
   "execution_count": 26,
   "id": "98124f5e-57c9-4e28-86ea-673c6cc38c1a",
   "metadata": {},
   "outputs": [],
   "source": [
    "# 9.Leap year checker logic"
   ]
  },
  {
   "cell_type": "code",
   "execution_count": 30,
   "id": "4cc96be2-4e90-4f52-a2ce-7784f87e59bf",
   "metadata": {},
   "outputs": [
    {
     "name": "stdin",
     "output_type": "stream",
     "text": [
      "Enter the year: 543\n"
     ]
    },
    {
     "name": "stdout",
     "output_type": "stream",
     "text": [
      "543 is not a leap year.\n"
     ]
    }
   ],
   "source": [
    "year = int(input(\"Enter the year:\"))\n",
    "if(year%4==0) and (year%100!=0 or year%400 == 0):\n",
    "    print(year,\"is a leap year.\")\n",
    "else:\n",
    "    print(year,\"is not a leap year.\")"
   ]
  },
  {
   "cell_type": "code",
   "execution_count": 31,
   "id": "634d62e3-71c3-42b1-b985-a810e1750d24",
   "metadata": {},
   "outputs": [],
   "source": [
    "# 10.Even number filter logic"
   ]
  },
  {
   "cell_type": "code",
   "execution_count": 35,
   "id": "a27907e2-e548-42d6-8801-5d138ade56cc",
   "metadata": {},
   "outputs": [
    {
     "name": "stdout",
     "output_type": "stream",
     "text": [
      "even number: 2\n",
      "even number: 4\n",
      "even number: 6\n",
      "even number: 8\n",
      "even number: 10\n"
     ]
    }
   ],
   "source": [
    "for num in range(1,12):\n",
    "    if(num%2==0):\n",
    "        print(\"even number:\",num)"
   ]
  },
  {
   "cell_type": "code",
   "execution_count": null,
   "id": "bded10d2-4593-4aef-9cda-5166c97279ed",
   "metadata": {},
   "outputs": [],
   "source": []
  }
 ],
 "metadata": {
  "kernelspec": {
   "display_name": "Python 3 (ipykernel)",
   "language": "python",
   "name": "python3"
  },
  "language_info": {
   "codemirror_mode": {
    "name": "ipython",
    "version": 3
   },
   "file_extension": ".py",
   "mimetype": "text/x-python",
   "name": "python",
   "nbconvert_exporter": "python",
   "pygments_lexer": "ipython3",
   "version": "3.11.5"
  }
 },
 "nbformat": 4,
 "nbformat_minor": 5
}
