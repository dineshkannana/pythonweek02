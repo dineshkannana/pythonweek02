{
 "cells": [
  {
   "cell_type": "code",
   "execution_count": 1,
   "id": "39993eac-e464-47f1-ba9d-af495a6fdbb3",
   "metadata": {},
   "outputs": [],
   "source": [
    "# 1.Categorize Transaction Amount as Positive, Negative, or Zero"
   ]
  },
  {
   "cell_type": "code",
   "execution_count": 2,
   "id": "39389cfa-114b-461a-b37f-2021cb1f54f0",
   "metadata": {},
   "outputs": [
    {
     "name": "stdin",
     "output_type": "stream",
     "text": [
      "Enter the transaction amount:  500\n"
     ]
    },
    {
     "name": "stdout",
     "output_type": "stream",
     "text": [
      "Transaction category: Positive Transaction\n"
     ]
    }
   ],
   "source": [
    "def categorize_transaction(amount):\n",
    "    if(amount > 0):\n",
    "        return \"Positive Transaction\"\n",
    "    elif(amount < 0):\n",
    "        return \"Negative Transaction\"\n",
    "    else:\n",
    "        return \"Zero Transaction\"\n",
    "\n",
    "# Example usage\n",
    "amount = float(input(\"Enter the transaction amount: \"))\n",
    "category = categorize_transaction(amount)\n",
    "print(\"Transaction category:\", category)"
   ]
  },
  {
   "cell_type": "code",
   "execution_count": 3,
   "id": "2f97362c-d1fb-48ad-92c6-3eed9c9be5ab",
   "metadata": {},
   "outputs": [],
   "source": [
    "# 2. Calculate Sum of Digits in a Numerical Passcode"
   ]
  },
  {
   "cell_type": "code",
   "execution_count": 4,
   "id": "1f1b54b8-0c9a-49a0-82c1-cb2ffde6262f",
   "metadata": {},
   "outputs": [
    {
     "name": "stdin",
     "output_type": "stream",
     "text": [
      "Enter the numerical passcode:  5607\n"
     ]
    },
    {
     "name": "stdout",
     "output_type": "stream",
     "text": [
      "Sum of digits: 18\n"
     ]
    }
   ],
   "source": [
    "def sum_of_digits(passcode):\n",
    "    total = 0\n",
    "    for digit in str(abs(passcode)): \n",
    "        total += int(digit)\n",
    "    return total\n",
    "\n",
    "passcode = int(input(\"Enter the numerical passcode: \"))\n",
    "print(\"Sum of digits:\", sum_of_digits(passcode))"
   ]
  },
  {
   "cell_type": "code",
   "execution_count": 5,
   "id": "8fad588e-47f3-460c-b459-a5256bc7193a",
   "metadata": {},
   "outputs": [],
   "source": [
    "# 3.  Reverse Transaction ID for Checksum Validation in Mobile Payment App"
   ]
  },
  {
   "cell_type": "code",
   "execution_count": 7,
   "id": "4be1bbec-246d-46ba-83c6-5fb1c1b5160c",
   "metadata": {},
   "outputs": [
    {
     "name": "stdin",
     "output_type": "stream",
     "text": [
      "Enter the transaction ID:  6758\n"
     ]
    },
    {
     "name": "stdout",
     "output_type": "stream",
     "text": [
      "Reversed transaction ID: 8576\n"
     ]
    }
   ],
   "source": [
    "def reverse_number(number):\n",
    "    reversed_num = int(str(number)[::-1])\n",
    "    return reversed_num\n",
    "\n",
    "transaction_id = int(input(\"Enter the transaction ID: \"))\n",
    "print(\"Reversed transaction ID:\", reverse_number(transaction_id))"
   ]
  },
  {
   "cell_type": "code",
   "execution_count": 8,
   "id": "6ac9bce4-e15e-4827-bd0b-e64d9970fd25",
   "metadata": {},
   "outputs": [],
   "source": [
    "# 4. Prime Number Check for Secure Feature Access in Login System"
   ]
  },
  {
   "cell_type": "code",
   "execution_count": 9,
   "id": "a77802df-a077-485e-b811-026a1e00a0a3",
   "metadata": {},
   "outputs": [
    {
     "data": {
      "text/plain": [
       "True"
      ]
     },
     "execution_count": 9,
     "metadata": {},
     "output_type": "execute_result"
    }
   ],
   "source": [
    "def is_prime(number):\n",
    "    if number <= 1:\n",
    "        return False \n",
    "\n",
    "    for i in range(2, int(number ** 0.5) + 1):\n",
    "        if number % i == 0:\n",
    "            return False  \n",
    "\n",
    "    return True  \n",
    "is_prime(7)"
   ]
  },
  {
   "cell_type": "code",
   "execution_count": 10,
   "id": "d150b670-b68f-4b8d-967c-51679c6583f1",
   "metadata": {},
   "outputs": [],
   "source": [
    "# 5.Recursive Factorial Calculation for Scientific Permutation Tasks"
   ]
  },
  {
   "cell_type": "code",
   "execution_count": 11,
   "id": "a7ff2a4a-ecbe-48fe-817b-a036570d26ed",
   "metadata": {},
   "outputs": [
    {
     "name": "stdout",
     "output_type": "stream",
     "text": [
      "The factorial of 5 is 120\n"
     ]
    }
   ],
   "source": [
    "def factorial_recursive(n):\n",
    "    if n == 0:\n",
    "        return 1 \n",
    "    else:\n",
    "        return n * factorial_recursive(n-1) \n",
    "\n",
    "number = 5\n",
    "result = factorial_recursive(number)\n",
    "print(\"The factorial of\", number, \"is\", result)"
   ]
  },
  {
   "cell_type": "code",
   "execution_count": 12,
   "id": "fee97e96-a445-4259-8192-0406fca00b4b",
   "metadata": {},
   "outputs": [],
   "source": [
    "# 6.Armstrong Number Check for Winning Lottery Ticket Validation"
   ]
  },
  {
   "cell_type": "code",
   "execution_count": 13,
   "id": "5e201bbb-9a39-4ebb-a166-c5e22c206384",
   "metadata": {},
   "outputs": [
    {
     "name": "stdin",
     "output_type": "stream",
     "text": [
      "Enter a number1:  1\n",
      "Enter a number2:  5\n",
      "Enter a number3:  3\n"
     ]
    },
    {
     "name": "stdout",
     "output_type": "stream",
     "text": [
      "153 is an Armstrong number.\n"
     ]
    }
   ],
   "source": [
    "# Take 3 digits as input\n",
    "num1 = int(input(\"Enter a number1: \"))\n",
    "num2 = int(input(\"Enter a number2: \"))\n",
    "num3 = int(input(\"Enter a number3: \"))\n",
    "\n",
    "# Combine the digits into a single number\n",
    "number = num1 * 100 + num2 * 10 + num3\n",
    "\n",
    "# Calculate sum of cubes of each digit\n",
    "armstrong_sum = num1**3 + num2**3 + num3**3\n",
    "\n",
    "# Check Armstrong condition\n",
    "if armstrong_sum == number:\n",
    "    print(number, \"is an Armstrong number.\")\n",
    "else:\n",
    "    print(number, \"is not an Armstrong number.\")\n"
   ]
  },
  {
   "cell_type": "code",
   "execution_count": 14,
   "id": "110c631b-6525-47e5-9b87-2c18ff18c25d",
   "metadata": {},
   "outputs": [],
   "source": [
    "# 7.Strengthening Passwords by Swapping First and Last Characters"
   ]
  },
  {
   "cell_type": "code",
   "execution_count": 15,
   "id": "b1cd80df-1f93-4202-afe2-0714661c3703",
   "metadata": {},
   "outputs": [
    {
     "name": "stdin",
     "output_type": "stream",
     "text": [
      "Enter your password:  kannan\n"
     ]
    },
    {
     "name": "stdout",
     "output_type": "stream",
     "text": [
      "Swapping first and last characters: nannak\n"
     ]
    }
   ],
   "source": [
    "password = input(\"Enter your password: \")\n",
    "\n",
    "# Only swap if length is more than 1\n",
    "if len(password) > 1:\n",
    "    swap = password[-1] + password[1:-1] + password[0]\n",
    "    print(\"Swapping first and last characters:\", swap)\n",
    "else:\n",
    "    print(\"Password too short to swap.\")"
   ]
  },
  {
   "cell_type": "code",
   "execution_count": 16,
   "id": "a2320aee-6ac7-4b20-a1fe-e7962c836045",
   "metadata": {},
   "outputs": [],
   "source": [
    "# 8.Decimal to Binary Conversion for Network Transmission Protocols"
   ]
  },
  {
   "cell_type": "code",
   "execution_count": 17,
   "id": "0792ffef-02a9-421f-8bba-d000a6dc0faa",
   "metadata": {},
   "outputs": [
    {
     "name": "stdout",
     "output_type": "stream",
     "text": [
      "1010\n"
     ]
    }
   ],
   "source": [
    "decimal_number = 10\n",
    "binary_string = bin(decimal_number)[2:]\n",
    "print(binary_string)  "
   ]
  },
  {
   "cell_type": "code",
   "execution_count": 18,
   "id": "ba8c11c6-2002-4291-85f6-58ad0f643024",
   "metadata": {},
   "outputs": [],
   "source": [
    "# 9.Finding the Longest Word in a Sentence "
   ]
  },
  {
   "cell_type": "code",
   "execution_count": 20,
   "id": "038ed22c-cff4-480a-9271-3324a7f211ba",
   "metadata": {},
   "outputs": [
    {
     "name": "stdin",
     "output_type": "stream",
     "text": [
      "Enter a sentence:   A text-processing tool helps summarize articles by identifying the  most significant words. \n"
     ]
    },
    {
     "name": "stdout",
     "output_type": "stream",
     "text": [
      "The longest word is: text-processing\n"
     ]
    }
   ],
   "source": [
    "sentence = input(\"Enter a sentence: \")\n",
    "words = sentence.split()\n",
    "longest_word = max(words, key=len)\n",
    "print(\"The longest word is:\", longest_word)"
   ]
  },
  {
   "cell_type": "code",
   "execution_count": 21,
   "id": "4d91499f-0e93-4cb5-9342-19aed0fa3b61",
   "metadata": {},
   "outputs": [],
   "source": [
    "# 10.Anagram Checker: Detecting Word Rearrangements in Python"
   ]
  },
  {
   "cell_type": "code",
   "execution_count": 23,
   "id": "2d334538-e3bc-433d-bcc0-7f2390954048",
   "metadata": {},
   "outputs": [
    {
     "name": "stdin",
     "output_type": "stream",
     "text": [
      "Enter first string:  dinesh\n",
      "Enter second string:  kannan\n"
     ]
    },
    {
     "name": "stdout",
     "output_type": "stream",
     "text": [
      "The strings are not anagrams.\n"
     ]
    }
   ],
   "source": [
    "str1 = input(\"Enter first string: \")\n",
    "str2 = input(\"Enter second string: \")\n",
    "if sorted(str1) == sorted(str2):\n",
    "    print(\"The strings are anagrams.\")\n",
    "else:\n",
    "    print(\"The strings are not anagrams.\")\n"
   ]
  },
  {
   "cell_type": "code",
   "execution_count": null,
   "id": "a9ef9722-3ba1-4cd0-a189-4d1d4da83b7d",
   "metadata": {},
   "outputs": [],
   "source": []
  }
 ],
 "metadata": {
  "kernelspec": {
   "display_name": "Python 3 (ipykernel)",
   "language": "python",
   "name": "python3"
  },
  "language_info": {
   "codemirror_mode": {
    "name": "ipython",
    "version": 3
   },
   "file_extension": ".py",
   "mimetype": "text/x-python",
   "name": "python",
   "nbconvert_exporter": "python",
   "pygments_lexer": "ipython3",
   "version": "3.11.5"
  }
 },
 "nbformat": 4,
 "nbformat_minor": 5
}
